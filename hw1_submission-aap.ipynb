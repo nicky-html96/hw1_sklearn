{
 "cells": [
  {
   "cell_type": "markdown",
   "id": "80b5b324",
   "metadata": {},
   "source": [
    "# HW1 - sklearn ml - development"
   ]
  },
  {
   "cell_type": "markdown",
   "id": "7e8cc3fa-4b85-4183-88db-880b38a6f863",
   "metadata": {},
   "source": [
    "# Data prep for housing problem\n",
    "\n",
    "In order to make this dataset usable for both regression problems and classification problems, we need to:\n",
    "\n",
    "* construct a binary target variable\n",
    "* do some column dropping and reordering\n",
    "* write out the new file to a csv file"
   ]
  },
  {
   "cell_type": "code",
   "execution_count": 66,
   "id": "2907ec05",
   "metadata": {
    "Collapsed": "false",
    "tags": []
   },
   "outputs": [],
   "source": [
    "import numpy as np\n",
    "import pandas as pd\n",
    "import matplotlib.pyplot as plt\n",
    "import seaborn as sns\n",
    "from ydata_profiling import ProfileReport"
   ]
  },
  {
   "cell_type": "code",
   "execution_count": 67,
   "id": "f99ca18b-3125-43d2-85d1-e8da221e4e3c",
   "metadata": {
    "tags": []
   },
   "outputs": [],
   "source": [
    "from sklearn.compose import ColumnTransformer\n",
    "from sklearn.pipeline import Pipeline, make_pipeline\n",
    "from sklearn.preprocessing import StandardScaler, OneHotEncoder, LabelEncoder\n",
    "from sklearn.linear_model import LogisticRegression, LogisticRegressionCV\n",
    "from sklearn.ensemble import RandomForestClassifier\n",
    "from sklearn.metrics import confusion_matrix, ConfusionMatrixDisplay\n",
    "from sklearn.model_selection import train_test_split\n",
    "from sklearn.dummy import DummyClassifier\n",
    "from sklearn.tree import DecisionTreeClassifier"
   ]
  },
  {
   "cell_type": "code",
   "execution_count": 68,
   "id": "acf12130",
   "metadata": {
    "tags": []
   },
   "outputs": [],
   "source": [
    "%matplotlib inline"
   ]
  },
  {
   "cell_type": "markdown",
   "id": "3c60666e-bff5-40e4-96e5-d698cb7a6efc",
   "metadata": {},
   "source": [
    "Read in the original dataset"
   ]
  },
  {
   "cell_type": "markdown",
   "id": "d75dc033-3f04-4131-bba8-706a6f2495d5",
   "metadata": {},
   "source": [
    "reading wrong file v - needs to be classification"
   ]
  },
  {
   "cell_type": "code",
   "execution_count": 71,
   "id": "2a629735",
   "metadata": {
    "Collapsed": "false",
    "tags": []
   },
   "outputs": [],
   "source": [
    "housing_df = pd.read_csv(\"./data/kc_house_data_classification.csv\")"
   ]
  },
  {
   "cell_type": "code",
   "execution_count": 72,
   "id": "5d9c705d-91e1-4ce2-bb1c-b7fca259b7f3",
   "metadata": {
    "Collapsed": "false",
    "tags": []
   },
   "outputs": [],
   "source": [
    "# housing_df = pd.read_csv(\"./data/kc_house_data_original.csv\")"
   ]
  },
  {
   "cell_type": "code",
   "execution_count": 73,
   "id": "ec907a8c",
   "metadata": {
    "tags": []
   },
   "outputs": [
    {
     "name": "stdout",
     "output_type": "stream",
     "text": [
      "<class 'pandas.core.frame.DataFrame'>\n",
      "RangeIndex: 21613 entries, 0 to 21612\n",
      "Data columns (total 19 columns):\n",
      " #   Column         Non-Null Count  Dtype  \n",
      "---  ------         --------------  -----  \n",
      " 0   bedrooms       21613 non-null  int64  \n",
      " 1   bathrooms      21613 non-null  float64\n",
      " 2   sqft_living    21613 non-null  int64  \n",
      " 3   sqft_lot       21613 non-null  int64  \n",
      " 4   floors         21613 non-null  float64\n",
      " 5   waterfront     21613 non-null  int64  \n",
      " 6   view           21613 non-null  int64  \n",
      " 7   condition      21613 non-null  int64  \n",
      " 8   grade          21613 non-null  int64  \n",
      " 9   sqft_above     21613 non-null  int64  \n",
      " 10  sqft_basement  21613 non-null  int64  \n",
      " 11  yr_built       21613 non-null  int64  \n",
      " 12  yr_renovated   21613 non-null  int64  \n",
      " 13  zipcode        21613 non-null  int64  \n",
      " 14  lat            21613 non-null  float64\n",
      " 15  long           21613 non-null  float64\n",
      " 16  sqft_living15  21613 non-null  int64  \n",
      " 17  sqft_lot15     21613 non-null  int64  \n",
      " 18  price_gt_1M    21613 non-null  int64  \n",
      "dtypes: float64(4), int64(15)\n",
      "memory usage: 3.1 MB\n"
     ]
    }
   ],
   "source": [
    "housing_df.info()"
   ]
  },
  {
   "cell_type": "code",
   "execution_count": 74,
   "id": "bf9144e0",
   "metadata": {
    "tags": []
   },
   "outputs": [
    {
     "data": {
      "text/html": [
       "<div>\n",
       "<style scoped>\n",
       "    .dataframe tbody tr th:only-of-type {\n",
       "        vertical-align: middle;\n",
       "    }\n",
       "\n",
       "    .dataframe tbody tr th {\n",
       "        vertical-align: top;\n",
       "    }\n",
       "\n",
       "    .dataframe thead th {\n",
       "        text-align: right;\n",
       "    }\n",
       "</style>\n",
       "<table border=\"1\" class=\"dataframe\">\n",
       "  <thead>\n",
       "    <tr style=\"text-align: right;\">\n",
       "      <th></th>\n",
       "      <th>bedrooms</th>\n",
       "      <th>bathrooms</th>\n",
       "      <th>sqft_living</th>\n",
       "      <th>sqft_lot</th>\n",
       "      <th>floors</th>\n",
       "      <th>waterfront</th>\n",
       "      <th>view</th>\n",
       "      <th>condition</th>\n",
       "      <th>grade</th>\n",
       "      <th>sqft_above</th>\n",
       "      <th>sqft_basement</th>\n",
       "      <th>yr_built</th>\n",
       "      <th>yr_renovated</th>\n",
       "      <th>zipcode</th>\n",
       "      <th>lat</th>\n",
       "      <th>long</th>\n",
       "      <th>sqft_living15</th>\n",
       "      <th>sqft_lot15</th>\n",
       "      <th>price_gt_1M</th>\n",
       "    </tr>\n",
       "  </thead>\n",
       "  <tbody>\n",
       "    <tr>\n",
       "      <th>0</th>\n",
       "      <td>3</td>\n",
       "      <td>1.00</td>\n",
       "      <td>1180</td>\n",
       "      <td>5650</td>\n",
       "      <td>1.0</td>\n",
       "      <td>0</td>\n",
       "      <td>0</td>\n",
       "      <td>3</td>\n",
       "      <td>7</td>\n",
       "      <td>1180</td>\n",
       "      <td>0</td>\n",
       "      <td>1955</td>\n",
       "      <td>0</td>\n",
       "      <td>98178</td>\n",
       "      <td>47.5112</td>\n",
       "      <td>-122.257</td>\n",
       "      <td>1340</td>\n",
       "      <td>5650</td>\n",
       "      <td>0</td>\n",
       "    </tr>\n",
       "    <tr>\n",
       "      <th>1</th>\n",
       "      <td>3</td>\n",
       "      <td>2.25</td>\n",
       "      <td>2570</td>\n",
       "      <td>7242</td>\n",
       "      <td>2.0</td>\n",
       "      <td>0</td>\n",
       "      <td>0</td>\n",
       "      <td>3</td>\n",
       "      <td>7</td>\n",
       "      <td>2170</td>\n",
       "      <td>400</td>\n",
       "      <td>1951</td>\n",
       "      <td>1991</td>\n",
       "      <td>98125</td>\n",
       "      <td>47.7210</td>\n",
       "      <td>-122.319</td>\n",
       "      <td>1690</td>\n",
       "      <td>7639</td>\n",
       "      <td>0</td>\n",
       "    </tr>\n",
       "    <tr>\n",
       "      <th>2</th>\n",
       "      <td>2</td>\n",
       "      <td>1.00</td>\n",
       "      <td>770</td>\n",
       "      <td>10000</td>\n",
       "      <td>1.0</td>\n",
       "      <td>0</td>\n",
       "      <td>0</td>\n",
       "      <td>3</td>\n",
       "      <td>6</td>\n",
       "      <td>770</td>\n",
       "      <td>0</td>\n",
       "      <td>1933</td>\n",
       "      <td>0</td>\n",
       "      <td>98028</td>\n",
       "      <td>47.7379</td>\n",
       "      <td>-122.233</td>\n",
       "      <td>2720</td>\n",
       "      <td>8062</td>\n",
       "      <td>0</td>\n",
       "    </tr>\n",
       "    <tr>\n",
       "      <th>3</th>\n",
       "      <td>4</td>\n",
       "      <td>3.00</td>\n",
       "      <td>1960</td>\n",
       "      <td>5000</td>\n",
       "      <td>1.0</td>\n",
       "      <td>0</td>\n",
       "      <td>0</td>\n",
       "      <td>5</td>\n",
       "      <td>7</td>\n",
       "      <td>1050</td>\n",
       "      <td>910</td>\n",
       "      <td>1965</td>\n",
       "      <td>0</td>\n",
       "      <td>98136</td>\n",
       "      <td>47.5208</td>\n",
       "      <td>-122.393</td>\n",
       "      <td>1360</td>\n",
       "      <td>5000</td>\n",
       "      <td>0</td>\n",
       "    </tr>\n",
       "    <tr>\n",
       "      <th>4</th>\n",
       "      <td>3</td>\n",
       "      <td>2.00</td>\n",
       "      <td>1680</td>\n",
       "      <td>8080</td>\n",
       "      <td>1.0</td>\n",
       "      <td>0</td>\n",
       "      <td>0</td>\n",
       "      <td>3</td>\n",
       "      <td>8</td>\n",
       "      <td>1680</td>\n",
       "      <td>0</td>\n",
       "      <td>1987</td>\n",
       "      <td>0</td>\n",
       "      <td>98074</td>\n",
       "      <td>47.6168</td>\n",
       "      <td>-122.045</td>\n",
       "      <td>1800</td>\n",
       "      <td>7503</td>\n",
       "      <td>0</td>\n",
       "    </tr>\n",
       "  </tbody>\n",
       "</table>\n",
       "</div>"
      ],
      "text/plain": [
       "   bedrooms  bathrooms  sqft_living  sqft_lot  floors  waterfront  view  \\\n",
       "0         3       1.00         1180      5650     1.0           0     0   \n",
       "1         3       2.25         2570      7242     2.0           0     0   \n",
       "2         2       1.00          770     10000     1.0           0     0   \n",
       "3         4       3.00         1960      5000     1.0           0     0   \n",
       "4         3       2.00         1680      8080     1.0           0     0   \n",
       "\n",
       "   condition  grade  sqft_above  sqft_basement  yr_built  yr_renovated  \\\n",
       "0          3      7        1180              0      1955             0   \n",
       "1          3      7        2170            400      1951          1991   \n",
       "2          3      6         770              0      1933             0   \n",
       "3          5      7        1050            910      1965             0   \n",
       "4          3      8        1680              0      1987             0   \n",
       "\n",
       "   zipcode      lat     long  sqft_living15  sqft_lot15  price_gt_1M  \n",
       "0    98178  47.5112 -122.257           1340        5650            0  \n",
       "1    98125  47.7210 -122.319           1690        7639            0  \n",
       "2    98028  47.7379 -122.233           2720        8062            0  \n",
       "3    98136  47.5208 -122.393           1360        5000            0  \n",
       "4    98074  47.6168 -122.045           1800        7503            0  "
      ]
     },
     "execution_count": 74,
     "metadata": {},
     "output_type": "execute_result"
    }
   ],
   "source": [
    "housing_df.head()"
   ]
  },
  {
   "cell_type": "markdown",
   "id": "e2cbf2ba",
   "metadata": {},
   "source": [
    "## Data prep steps\n",
    "\n",
    "* create a `price_gt_1M` column for classification\n",
    "* drop the `id` column\n",
    "* reorder the cols so that `price` and `price_gt_1M` are at the end\n"
   ]
  },
  {
   "cell_type": "markdown",
   "id": "229c7772-df58-490a-82ff-4f28ee9a1db6",
   "metadata": {},
   "source": [
    "Let's just double check that True=1 and False=0."
   ]
  },
  {
   "cell_type": "code",
   "execution_count": 77,
   "id": "6e15da06-7ab9-4562-9e71-614e01322187",
   "metadata": {
    "tags": []
   },
   "outputs": [
    {
     "name": "stdout",
     "output_type": "stream",
     "text": [
      "1 0\n"
     ]
    }
   ],
   "source": [
    "print(int(True), int(False))"
   ]
  },
  {
   "cell_type": "markdown",
   "id": "19a6fa7d-06f5-4f2d-90aa-c4ccc2231424",
   "metadata": {},
   "source": [
    "Create new `price_gt_1M` field based on whether or not `price` is greater than or equal to $1M."
   ]
  },
  {
   "cell_type": "code",
   "execution_count": 79,
   "id": "1aa963f5-b1e2-4b94-87f9-24af0e9e5bf3",
   "metadata": {
    "tags": []
   },
   "outputs": [],
   "source": [
    "# housing_df['price_gt_1M'] = housing_df['price'].map(lambda x: int(x >= 1000000)) "
   ]
  },
  {
   "cell_type": "markdown",
   "id": "3aa6cec1-6e24-43f6-9315-4a3818477acc",
   "metadata": {},
   "source": [
    "Drop `id` and `date` columns since we won't use it for this problem."
   ]
  },
  {
   "cell_type": "code",
   "execution_count": 81,
   "id": "9c785bfa-c76b-45d6-ae9a-b06216b1174b",
   "metadata": {
    "tags": []
   },
   "outputs": [],
   "source": [
    "#housing_df = housing_df.iloc[:, 2:]\n",
    "#housing_df.info()"
   ]
  },
  {
   "cell_type": "markdown",
   "id": "4d26c831-3352-418b-a37a-81156b5634f5",
   "metadata": {},
   "source": [
    "Now let's reorder the columns so that `price` is moved to the end. The basic strategy is to create a list of the column numbers in the order we want them. The following takes column 1 and moves it to the end by creating the following vector that we can then use with the `.iloc` selector."
   ]
  },
  {
   "cell_type": "code",
   "execution_count": 83,
   "id": "0c6adac4-baab-4548-9db5-00544f94924e",
   "metadata": {
    "tags": []
   },
   "outputs": [],
   "source": [
    "#newcols_class = [_ for _ in range(1, 20)]\n",
    "#newcols_class"
   ]
  },
  {
   "cell_type": "code",
   "execution_count": 84,
   "id": "5d79e964-daf6-44cf-a713-38dd803551c0",
   "metadata": {
    "tags": []
   },
   "outputs": [],
   "source": [
    "#newcols_regression = [_ for _ in range(1, 18)]\n",
    "#newcols_regression.extend([0])\n",
    "#newcols_regression"
   ]
  },
  {
   "cell_type": "code",
   "execution_count": 85,
   "id": "b05cdaa6-de49-4f3a-ad83-2c8f59f8c8f5",
   "metadata": {
    "tags": []
   },
   "outputs": [],
   "source": [
    "#housing_class_df = housing_df.iloc[:, newcols_class]\n",
    "#housing_class_df.info()"
   ]
  },
  {
   "cell_type": "code",
   "execution_count": 86,
   "id": "d5bffd84-5d65-46cd-b0b4-52748774d707",
   "metadata": {
    "tags": []
   },
   "outputs": [],
   "source": [
    "#housing_regression_df = housing_df.iloc[:, newcols_regression]\n",
    "#housing_regression_df.info()"
   ]
  },
  {
   "cell_type": "markdown",
   "id": "ad6b9f3c-c23c-47ec-8232-c95ded25f126",
   "metadata": {},
   "source": [
    "Finally, write out the new dataframe to a new csv file."
   ]
  },
  {
   "cell_type": "code",
   "execution_count": 88,
   "id": "2e4b3b2e-490c-4614-a7e5-ecf6ac2b8ff2",
   "metadata": {
    "tags": []
   },
   "outputs": [],
   "source": [
    "#housing_class_df.to_csv(\"./data/kc_house_data_classification.csv\", index=False)"
   ]
  },
  {
   "cell_type": "code",
   "execution_count": 89,
   "id": "757e75ea-bae2-4215-a97c-2f2d4c02facc",
   "metadata": {
    "tags": []
   },
   "outputs": [],
   "source": [
    "#housing_df.head(10)"
   ]
  },
  {
   "cell_type": "markdown",
   "id": "9887d458-1e0c-4382-ad42-ddcec6e3f463",
   "metadata": {},
   "source": [
    "## Task 3 - EDA"
   ]
  },
  {
   "cell_type": "markdown",
   "id": "015f1893-0d52-46c8-973f-acc7f748a9cd",
   "metadata": {},
   "source": [
    "### Using Sweetviz"
   ]
  },
  {
   "cell_type": "code",
   "execution_count": 92,
   "id": "70ee5e97-c1de-45db-a410-ff20f3accbbb",
   "metadata": {
    "tags": []
   },
   "outputs": [],
   "source": [
    "import sweetviz"
   ]
  },
  {
   "cell_type": "code",
   "execution_count": 93,
   "id": "114842b3-71f3-4526-9f51-4cd6d2fba23a",
   "metadata": {},
   "outputs": [
    {
     "data": {
      "application/vnd.jupyter.widget-view+json": {
       "model_id": "5f6292ceae204137927a8242ccaae131",
       "version_major": 2,
       "version_minor": 0
      },
      "text/plain": [
       "                                             |                       | [  0%]   00:00 -> (? left)"
      ]
     },
     "metadata": {},
     "output_type": "display_data"
    }
   ],
   "source": [
    "report = sweetviz.analyze(housing_df)"
   ]
  },
  {
   "cell_type": "code",
   "execution_count": 94,
   "id": "123ec030-43fc-46e0-8db6-87708893debe",
   "metadata": {
    "tags": []
   },
   "outputs": [],
   "source": [
    "# report.show_html(\"output/sweetviz_hw1report.html\")"
   ]
  },
  {
   "cell_type": "markdown",
   "id": "bf195032-ed82-4c1f-83ee-5e3ead7a90d1",
   "metadata": {},
   "source": [
    "### Using Panda Profiling"
   ]
  },
  {
   "cell_type": "code",
   "execution_count": 96,
   "id": "413bc973-64e2-4892-99a6-a9b74580ca92",
   "metadata": {
    "tags": []
   },
   "outputs": [],
   "source": [
    "profile = ProfileReport(housing_df, title=\"Pandas Profiling Report\")"
   ]
  },
  {
   "cell_type": "code",
   "execution_count": 97,
   "id": "e9c9e118-4081-43aa-b446-7d879ebb4cc6",
   "metadata": {
    "tags": []
   },
   "outputs": [
    {
     "data": {
      "application/vnd.jupyter.widget-view+json": {
       "model_id": "a98781fa69664c1f90f06c8da7be7580",
       "version_major": 2,
       "version_minor": 0
      },
      "text/plain": [
       "Summarize dataset:   0%|          | 0/5 [00:00<?, ?it/s]"
      ]
     },
     "metadata": {},
     "output_type": "display_data"
    },
    {
     "data": {
      "application/vnd.jupyter.widget-view+json": {
       "model_id": "1ffe6914119141beb4a1b9778fdca420",
       "version_major": 2,
       "version_minor": 0
      },
      "text/plain": [
       "Generate report structure:   0%|          | 0/1 [00:00<?, ?it/s]"
      ]
     },
     "metadata": {},
     "output_type": "display_data"
    },
    {
     "data": {
      "application/vnd.jupyter.widget-view+json": {
       "model_id": "50754d6579224c42b6006e7d30c5e048",
       "version_major": 2,
       "version_minor": 0
      },
      "text/plain": [
       "Render HTML:   0%|          | 0/1 [00:00<?, ?it/s]"
      ]
     },
     "metadata": {},
     "output_type": "display_data"
    },
    {
     "data": {
      "application/vnd.jupyter.widget-view+json": {
       "model_id": "0b6aafe002044b56b66381a0ea815da7",
       "version_major": 2,
       "version_minor": 0
      },
      "text/plain": [
       "Export report to file:   0%|          | 0/1 [00:00<?, ?it/s]"
      ]
     },
     "metadata": {},
     "output_type": "display_data"
    }
   ],
   "source": [
    "profile.to_file(\"output/pandas_profiling_report.html\")"
   ]
  },
  {
   "cell_type": "code",
   "execution_count": 98,
   "id": "5ceaab2d-38f9-482b-9f9e-7cc096c12b1e",
   "metadata": {
    "tags": []
   },
   "outputs": [],
   "source": [
    "# profile"
   ]
  },
  {
   "cell_type": "markdown",
   "id": "4471b02f-b485-4ef4-bbab-781caf1127b2",
   "metadata": {},
   "source": [
    "It seems that there is a small difference in the outputs that were generated. The Sweetviz report suggested that the variable `floors` was a categorical variable but the Pandas Profiling one dictated it as a numeric variable. For the purpose of this hw I will not dedicate `floors` as a categorical variable in my models."
   ]
  },
  {
   "cell_type": "markdown",
   "id": "4264ee21-8b8a-4f84-8150-4a8b4b61d3a0",
   "metadata": {},
   "source": [
    "## Task 4 - Categorical vs. Numeric"
   ]
  },
  {
   "cell_type": "markdown",
   "id": "65fda23c-9025-4760-977b-73ab957d5fe5",
   "metadata": {},
   "source": [
    "Here are the steps I took in order to do some data preprocessing continue the development of the models later in the hw file."
   ]
  },
  {
   "cell_type": "markdown",
   "id": "0b711a22-c537-4e4c-8f36-8dba2cc0ba94",
   "metadata": {},
   "source": [
    "First lets see what the datatypes for are variables are."
   ]
  },
  {
   "cell_type": "code",
   "execution_count": 103,
   "id": "2161c0a1-4984-4000-9b83-7e293d358569",
   "metadata": {
    "tags": []
   },
   "outputs": [
    {
     "data": {
      "text/plain": [
       "bedrooms           int64\n",
       "bathrooms        float64\n",
       "sqft_living        int64\n",
       "sqft_lot           int64\n",
       "floors           float64\n",
       "waterfront         int64\n",
       "view               int64\n",
       "condition          int64\n",
       "grade              int64\n",
       "sqft_above         int64\n",
       "sqft_basement      int64\n",
       "yr_built           int64\n",
       "yr_renovated       int64\n",
       "zipcode            int64\n",
       "lat              float64\n",
       "long             float64\n",
       "sqft_living15      int64\n",
       "sqft_lot15         int64\n",
       "price_gt_1M        int64\n",
       "dtype: object"
      ]
     },
     "execution_count": 103,
     "metadata": {},
     "output_type": "execute_result"
    }
   ],
   "source": [
    "housing_df.dtypes"
   ]
  },
  {
   "cell_type": "code",
   "execution_count": 121,
   "id": "16e96f32-73c1-445e-8919-b20ab3fc3d13",
   "metadata": {
    "tags": []
   },
   "outputs": [
    {
     "ename": "NameError",
     "evalue": "name 'housing_class_df' is not defined",
     "output_type": "error",
     "traceback": [
      "\u001b[1;31m---------------------------------------------------------------------------\u001b[0m",
      "\u001b[1;31mNameError\u001b[0m                                 Traceback (most recent call last)",
      "Cell \u001b[1;32mIn[121], line 1\u001b[0m\n\u001b[1;32m----> 1\u001b[0m housing_class_df\u001b[38;5;241m.\u001b[39mdtypes\n",
      "\u001b[1;31mNameError\u001b[0m: name 'housing_class_df' is not defined"
     ]
    }
   ],
   "source": [
    "housing_class_df.dtypes"
   ]
  },
  {
   "cell_type": "markdown",
   "id": "4b5f98d1-2f9e-418c-8ff7-7296695bf05c",
   "metadata": {},
   "source": [
    "Since all of the variables will output as numeric, we will have to make sure what variables are numeric/categorical in out lists. "
   ]
  },
  {
   "cell_type": "markdown",
   "id": "e9319dcd-428c-4f69-92bb-d5c09d4f8331",
   "metadata": {},
   "source": [
    "Next, I will convert the following variables `view`, `waterfront`, `condition`, and `price_gt_1M` into categorical data using the following code."
   ]
  },
  {
   "cell_type": "code",
   "execution_count": 140,
   "id": "95edd420-7d93-4628-aa95-bf4aa34853c5",
   "metadata": {
    "tags": []
   },
   "outputs": [],
   "source": [
    "housing_df[\"view\"] = housing_df[\"view\"].astype(\"category\")\n",
    "housing_df[\"waterfront\"] = housing_df[\"waterfront\"].astype(\"category\")\n",
    "housing_df[\"condition\"] = housing_df[\"condition\"].astype(\"category\")\n",
    "# housing_df[\"price_gt_1M\"] = housing_df[\"price_gt_1M\"].astype(\"category\")"
   ]
  },
  {
   "cell_type": "markdown",
   "id": "8d65528a-132e-445c-bfdf-9bac71cb63d6",
   "metadata": {},
   "source": [
    "Here is the resulting output for the numeric and categorical variables:"
   ]
  },
  {
   "cell_type": "code",
   "execution_count": 143,
   "id": "4758f22b-4350-4dd0-9cbe-84c51de0f8c9",
   "metadata": {
    "tags": []
   },
   "outputs": [],
   "source": [
    "categorical_cols = housing_df.select_dtypes(include=['category']).columns.tolist()\n",
    "numeric_cols = housing_df.select_dtypes(include=['number']).columns.tolist()"
   ]
  },
  {
   "cell_type": "code",
   "execution_count": 145,
   "id": "700f77a1-ce5d-4864-b83c-3a3b5fa8c91b",
   "metadata": {
    "tags": []
   },
   "outputs": [
    {
     "data": {
      "text/plain": [
       "['waterfront', 'view', 'condition']"
      ]
     },
     "execution_count": 145,
     "metadata": {},
     "output_type": "execute_result"
    }
   ],
   "source": [
    "categorical_cols"
   ]
  },
  {
   "cell_type": "code",
   "execution_count": 147,
   "id": "0bb20693-ee27-47ba-840d-2f227ba5b394",
   "metadata": {
    "tags": []
   },
   "outputs": [
    {
     "data": {
      "text/plain": [
       "['bedrooms',\n",
       " 'bathrooms',\n",
       " 'sqft_living',\n",
       " 'sqft_lot',\n",
       " 'floors',\n",
       " 'grade',\n",
       " 'sqft_above',\n",
       " 'sqft_basement',\n",
       " 'yr_built',\n",
       " 'yr_renovated',\n",
       " 'zipcode',\n",
       " 'lat',\n",
       " 'long',\n",
       " 'sqft_living15',\n",
       " 'sqft_lot15',\n",
       " 'price_gt_1M']"
      ]
     },
     "execution_count": 147,
     "metadata": {},
     "output_type": "execute_result"
    }
   ],
   "source": [
    "numeric_cols"
   ]
  },
  {
   "cell_type": "code",
   "execution_count": null,
   "id": "b0420b02-b423-41db-bd01-e98002402832",
   "metadata": {
    "tags": []
   },
   "outputs": [],
   "source": [
    "numeric_cols = numeric_cols[:-1]\n",
    "numeric_cols"
   ]
  },
  {
   "cell_type": "code",
   "execution_count": null,
   "id": "fbadfa02-2926-4823-8044-82d8b1f944de",
   "metadata": {
    "tags": []
   },
   "outputs": [],
   "source": [
    "X = housing_df.iloc[:, 0:18]\n",
    "y = housing_df.iloc[:, 18]"
   ]
  },
  {
   "cell_type": "code",
   "execution_count": null,
   "id": "3b13ca02-6b55-4220-9519-85f9c3b60cdd",
   "metadata": {
    "tags": []
   },
   "outputs": [],
   "source": [
    "housing_df.info()"
   ]
  },
  {
   "cell_type": "code",
   "execution_count": null,
   "id": "227cc09c-21ce-4163-8b73-213ee39b0bf0",
   "metadata": {
    "tags": []
   },
   "outputs": [],
   "source": [
    "X.info()"
   ]
  },
  {
   "cell_type": "code",
   "execution_count": null,
   "id": "39f583b7-ad7a-494f-8122-608f97913038",
   "metadata": {
    "tags": []
   },
   "outputs": [],
   "source": [
    "y.info()"
   ]
  },
  {
   "cell_type": "code",
   "execution_count": null,
   "id": "e4195905-e3b1-4fc6-9108-8354d08854fe",
   "metadata": {
    "tags": []
   },
   "outputs": [],
   "source": [
    "# Encode for string labels\n",
    "#label_encoder = LabelEncoder().fit(y)\n",
    "#y = label_encoder.transform(y)"
   ]
  },
  {
   "cell_type": "markdown",
   "id": "482201cd-0018-4f17-a5cc-7141ad20958c",
   "metadata": {},
   "source": [
    "## Task 4 - Logistic Regression models"
   ]
  },
  {
   "cell_type": "markdown",
   "id": "dbce4863-d1c2-4b52-84f0-c1273ed64caf",
   "metadata": {},
   "source": [
    "### Pipeline for preprocessing"
   ]
  },
  {
   "cell_type": "code",
   "execution_count": null,
   "id": "b55bd805-bf7b-4984-ac57-fda9a4c76a64",
   "metadata": {
    "tags": []
   },
   "outputs": [],
   "source": [
    "# Create a StandardScalar object to use on our numeric variables\n",
    "numeric_transformer = StandardScaler()"
   ]
  },
  {
   "cell_type": "code",
   "execution_count": null,
   "id": "32f58c44-54db-4d85-9448-94d9584ce91e",
   "metadata": {
    "tags": []
   },
   "outputs": [],
   "source": [
    "categorical_transformer = OneHotEncoder(handle_unknown='ignore')"
   ]
  },
  {
   "cell_type": "code",
   "execution_count": null,
   "id": "a5bdf9d4-84de-4895-890c-2ec1c42988ab",
   "metadata": {
    "tags": []
   },
   "outputs": [],
   "source": [
    "preprocessor = ColumnTransformer(\n",
    "    transformers=[\n",
    "        ('num', numeric_transformer, numeric_cols),\n",
    "        ('cat', categorical_transformer, categorical_cols)])"
   ]
  },
  {
   "cell_type": "code",
   "execution_count": null,
   "id": "a6395bd6-914c-4973-ac80-b920fda1be29",
   "metadata": {
    "tags": []
   },
   "outputs": [],
   "source": [
    "# Classifier model\n",
    "clf_model = LogisticRegression(penalty='l2', C=1, solver='saga', max_iter=500)\n",
    "\n",
    "# Append classifier to preprocessing pipeline.\n",
    "# Now we have a full prediction pipeline.\n",
    "clf = Pipeline(steps=[('preprocessor', preprocessor),\n",
    "                      ('classifier', clf_model)])"
   ]
  },
  {
   "cell_type": "code",
   "execution_count": null,
   "id": "0a96f950-3acc-42ae-82fb-ed06352c0d13",
   "metadata": {
    "tags": []
   },
   "outputs": [],
   "source": [
    "X_train, X_test, y_train, y_test = train_test_split(X, y, test_size=0.2, random_state=73)\n",
    "\n",
    "# Fit model on new training data - notice that clf is actually the Pipeline\n",
    "clf.fit(X_train, y_train)\n",
    "\n",
    "print(f\"Training score: {clf.score(X_train, y_train):.3f}\")\n",
    "print(f\"Test score: {clf.score(X_test, y_test):.3f}\")"
   ]
  },
  {
   "cell_type": "code",
   "execution_count": null,
   "id": "2d9e5ce8-88fd-435f-8448-a6627746e71b",
   "metadata": {
    "tags": []
   },
   "outputs": [],
   "source": [
    "y_train.info()"
   ]
  },
  {
   "cell_type": "markdown",
   "id": "2b0f59cb-0545-4cf7-a0db-444a036077c3",
   "metadata": {
    "tags": []
   },
   "source": [
    "#### Model 0"
   ]
  },
  {
   "cell_type": "code",
   "execution_count": null,
   "id": "21d5551a-e409-4777-b2d3-7f4c7c216450",
   "metadata": {
    "tags": []
   },
   "outputs": [],
   "source": [
    "dummy_clf = DummyClassifier(strategy=\"most_frequent\")"
   ]
  },
  {
   "cell_type": "code",
   "execution_count": null,
   "id": "e8c709e0-4a6f-49fe-bd3f-6bf0ee45af40",
   "metadata": {
    "tags": []
   },
   "outputs": [],
   "source": [
    "dummy_clf.fit(X, y)"
   ]
  },
  {
   "cell_type": "code",
   "execution_count": null,
   "id": "7853cd21-b921-48ae-a68e-054751b8346e",
   "metadata": {
    "tags": []
   },
   "outputs": [],
   "source": [
    "dummy_clf.predict(X)"
   ]
  },
  {
   "cell_type": "code",
   "execution_count": null,
   "id": "42445643-f837-428e-8e15-d30e7b3bc120",
   "metadata": {
    "tags": []
   },
   "outputs": [],
   "source": [
    "dummy_clf.score(X, y)"
   ]
  },
  {
   "cell_type": "markdown",
   "id": "a5ec47d5-3cdc-4803-a056-367d4c0c9ea5",
   "metadata": {
    "tags": []
   },
   "source": [
    "#### Model 1"
   ]
  },
  {
   "cell_type": "code",
   "execution_count": null,
   "id": "3872ce4d-ab0c-413e-bbf1-12dd74721d34",
   "metadata": {
    "tags": []
   },
   "outputs": [],
   "source": [
    "# Ridge Regression\n",
    "clf_model_ridge = LogisticRegression(penalty='l2', C=1.0, solver='saga', max_iter=2000)"
   ]
  },
  {
   "cell_type": "code",
   "execution_count": null,
   "id": "f41b5922-8dd6-4361-9d88-8e3688e6e58d",
   "metadata": {
    "tags": []
   },
   "outputs": [],
   "source": [
    "# Appending classifier to preprocessing pipeline.\n",
    "clf_model1 = Pipeline(steps=[('preprocessor', preprocessor),\n",
    "                      ('classifier', clf_model_ridge)])"
   ]
  },
  {
   "cell_type": "code",
   "execution_count": null,
   "id": "df544016-ec4b-4ddf-b3bc-5190e3c24225",
   "metadata": {
    "tags": []
   },
   "outputs": [],
   "source": [
    "# Fitting model on training data \n",
    "clf_model1.fit(X_train, y_train)\n",
    "\n",
    "# Output statement\n",
    "print(f\"Training score: {clf_model1.score(X_train, y_train):.3f}\")\n",
    "print(f\"Test score: {clf_model1.score(X_test, y_test):.3f}\")"
   ]
  },
  {
   "cell_type": "markdown",
   "id": "ac690fe1-e69c-41df-8479-0f6b2426c57d",
   "metadata": {
    "tags": []
   },
   "source": [
    "#### Model 2"
   ]
  },
  {
   "cell_type": "code",
   "execution_count": null,
   "id": "e0a83929-cf2f-45f1-a782-1d3ed1bd32f5",
   "metadata": {
    "tags": []
   },
   "outputs": [],
   "source": [
    "# Lasso Regression, C = 1.0\n",
    "clf_model2_lasso = LogisticRegression(penalty='l1', C=1.0, solver='saga', max_iter=2000)\n",
    "\n",
    "# Appending classifier to preprocessing pipeline.\n",
    "clf_model2 = Pipeline(steps=[('preprocessor', preprocessor),\n",
    "                      ('classifier', clf_model2_lasso)])\n",
    "\n",
    "# Fitting model on training data \n",
    "clf_model2.fit(X_train, y_train)\n",
    "\n",
    "# Output statement\n",
    "print(f\"Training score: {clf_model2.score(X_train, y_train):.3f}\")\n",
    "print(f\"Test score: {clf_model2.score(X_test, y_test):.3f}\")"
   ]
  },
  {
   "cell_type": "markdown",
   "id": "04e5773a-389b-4871-8f3e-70bc148e920d",
   "metadata": {},
   "source": [
    "Explaination and comparison of Models 1 to 2: "
   ]
  },
  {
   "cell_type": "markdown",
   "id": "c2812578-e04f-4757-83b6-3f6964219b60",
   "metadata": {
    "tags": []
   },
   "source": [
    "#### Model 3"
   ]
  },
  {
   "cell_type": "code",
   "execution_count": null,
   "id": "0f3acb02-f632-45a4-8344-9c93638eb760",
   "metadata": {
    "tags": []
   },
   "outputs": [],
   "source": [
    "# Lasso Regression, C = 0.01\n",
    "clf_model3_lasso = LogisticRegression(penalty='l1', C=0.01, solver='saga', max_iter=2000)\n",
    "\n",
    "# Appending classifier to preprocessing pipeline.\n",
    "clf_model3 = Pipeline(steps=[('preprocessor', preprocessor),\n",
    "                      ('classifier', clf_model3_lasso)])\n",
    "\n",
    "# Fitting model on training data \n",
    "clf_model3.fit(X_train, y_train)\n",
    "\n",
    "# Output statement\n",
    "print(f\"Training score: {clf_model3.score(X_train, y_train):.3f}\")\n",
    "print(f\"Test score: {clf_model3.score(X_test, y_test):.3f}\")"
   ]
  },
  {
   "cell_type": "markdown",
   "id": "64124dcd-b914-42c0-aafe-4f4f3ff94be4",
   "metadata": {},
   "source": [
    "ANSWER AND EXPLAINATION: Does this enforce more or less regularization? Create the same outputs and compare the performance to the first two models. Discuss why the plot looks so different than the previous plots."
   ]
  },
  {
   "cell_type": "markdown",
   "id": "ba39ad92-5324-4d86-a691-656793c35111",
   "metadata": {
    "tags": []
   },
   "source": [
    "#### Model 4"
   ]
  },
  {
   "cell_type": "code",
   "execution_count": null,
   "id": "71039fad-f240-4155-8cf1-c068b8a4da9a",
   "metadata": {
    "tags": []
   },
   "outputs": [],
   "source": [
    "# LR, Optimal C value\n",
    "clf_model4_cv = LogisticRegressionCV(penalty='l1', solver='saga', max_iter=2000)\n",
    "\n",
    "# Appending classifier to preprocessing pipeline.\n",
    "clf_model4 = Pipeline(steps=[('preprocessor', preprocessor),\n",
    "                      ('classifier', clf_model4_cv)])\n",
    "\n",
    "# Fitting model on training data \n",
    "clf_model4.fit(X_train, y_train)\n",
    "\n",
    "# Output statement\n",
    "print(f\"Training score: {clf_model4.score(X_train, y_train):.3f}\")\n",
    "print(f\"Test score: {clf_model4.score(X_test, y_test):.3f}\")"
   ]
  },
  {
   "cell_type": "markdown",
   "id": "ec96766e-e8b1-40a2-833d-6a3eb9f913af",
   "metadata": {},
   "source": [
    "EXPLAINATION AND ANSWER: Does regularization help for this problem? Need Confusion Matrixs for problem"
   ]
  },
  {
   "cell_type": "markdown",
   "id": "48c7a591-db35-4368-a8e5-09ceea06103c",
   "metadata": {},
   "source": [
    "### Task 5 - Decision Tree"
   ]
  },
  {
   "cell_type": "code",
   "execution_count": null,
   "id": "9685ccba-387c-4d59-af9b-81302ba20706",
   "metadata": {
    "tags": []
   },
   "outputs": [],
   "source": [
    "# Create a DecisionTreeClassifier model. \n",
    "tree_task5 = DecisionTreeClassifier(min_samples_split=20)\n",
    "\n",
    "# Fit the model using our features and target variables\n",
    "tree_task5.fit(X_train, y_train)\n",
    "\n",
    "# Get % accuracy on the training data\n",
    "tree_task5.score(X_train, y_train)"
   ]
  },
  {
   "cell_type": "code",
   "execution_count": null,
   "id": "8067a663-5473-45db-bb95-4b155b19e813",
   "metadata": {
    "tags": []
   },
   "outputs": [],
   "source": [
    "# Making prediction\n",
    "tree_testclasses = tree_task5.predict(X_test)\n",
    "print(tree_testclasses[:10])"
   ]
  },
  {
   "cell_type": "code",
   "execution_count": null,
   "id": "653461d5-ff4a-4715-a475-1b69244e6917",
   "metadata": {
    "tags": []
   },
   "outputs": [],
   "source": [
    "# Fitting Decision Tree\n",
    "clf_RF_model_final = RandomForestClassifier(oob_score=True, random_state=0)\n",
    "\n",
    "# Append classifier to preprocessing pipeline.\n",
    "clf_RF_final = Pipeline(steps=[('preprocessor', preprocessor),\n",
    "                      ('classifier', clf_RF_model_final)])\n",
    "\n",
    "# Fit model on training data \n",
    "clf_RF_final.fit(X_train, y_train)\n",
    "print(\"Training score: %.3f\" % clf_RF_final.score(X_train, y_train))\n",
    "\n",
    "# Make predictions on the test data\n",
    "clf_RF_final_predictions = clf_RF_final.predict(X_test)\n",
    "print(clf_RF_final_predictions[:10])  # Print out a few predictions just to see what they look like\n"
   ]
  },
  {
   "cell_type": "markdown",
   "id": "bf0f43af-7ba9-46d2-b9a6-d786c3421bd1",
   "metadata": {
    "tags": []
   },
   "source": [
    "ANSWER AND EXPLAINATION: Discuss the performance relative to your logistic regression models."
   ]
  },
  {
   "cell_type": "code",
   "execution_count": null,
   "id": "d7bdb91b-cba7-4d64-a785-da3eaaf0abb3",
   "metadata": {
    "tags": []
   },
   "outputs": [],
   "source": [
    "#if 'price_gt_1M' in y:\n",
    "  # print(\"Column 'Name' is present in the DataFrame\")\n",
    "#else:\n",
    " #  print(\"Column 'Name' is not present in the DataFrame\") "
   ]
  },
  {
   "cell_type": "markdown",
   "id": "43eb0528-67df-41b4-9ade-4717b773b2f7",
   "metadata": {},
   "source": [
    "### Task 6 - Error Exploration"
   ]
  },
  {
   "cell_type": "code",
   "execution_count": null,
   "id": "4719f3fe-b6f9-4595-9219-bc04850c90ba",
   "metadata": {
    "tags": []
   },
   "outputs": [],
   "source": [
    "# Classifier model\n",
    "clf_task6_lasso = LogisticRegression(penalty='l1', C=1.0, solver='saga', max_iter=2000)\n",
    "\n",
    "# Append classifier to preprocessing pipeline.\n",
    "clf_task6 = Pipeline(steps=[('preprocessor', preprocessor),\n",
    "                      ('classifier', clf_task6_lasso)])\n",
    "\n",
    "# Fit model on training data \n",
    "clf_task6.fit(X_train, y_train)\n",
    "\n",
    "print(f\"Training score: {clf_task6.score(X_train, y_train):.3f}\")\n",
    "print(f\"Test score: {clf_task6.score(X_test, y_test):.3f}\")\n",
    "\n",
    "\n",
    "# Make predictions on the test data\n",
    "clf_task6_predictions = clf_task6.predict(X_test)\n",
    "print(clf_task6_predictions[:10])  # Print out a few predictions just to see what they look like"
   ]
  },
  {
   "cell_type": "code",
   "execution_count": null,
   "id": "d19cc54c-d917-4fad-935f-9a80a99e6687",
   "metadata": {},
   "outputs": [],
   "source": []
  }
 ],
 "metadata": {
  "kernelspec": {
   "display_name": "Python [conda env:aap]",
   "language": "python",
   "name": "conda-env-aap-py"
  },
  "language_info": {
   "codemirror_mode": {
    "name": "ipython",
    "version": 3
   },
   "file_extension": ".py",
   "mimetype": "text/x-python",
   "name": "python",
   "nbconvert_exporter": "python",
   "pygments_lexer": "ipython3",
   "version": "3.12.3"
  }
 },
 "nbformat": 4,
 "nbformat_minor": 5
}
