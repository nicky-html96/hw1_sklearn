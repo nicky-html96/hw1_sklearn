{
 "cells": [
  {
   "cell_type": "markdown",
   "id": "80b5b324",
   "metadata": {},
   "source": [
    "# HW1 - sklearn ml - development"
   ]
  },
  {
   "cell_type": "code",
   "execution_count": null,
   "id": "2907ec05",
   "metadata": {
    "Collapsed": "false",
    "tags": []
   },
   "outputs": [],
   "source": [
    "import numpy as np\n",
    "import pandas as pd\n",
    "import matplotlib.pyplot as plt\n",
    "import seaborn as sns\n",
    "from ydata_profiling import ProfileReport"
   ]
  },
  {
   "cell_type": "code",
   "execution_count": null,
   "id": "f99ca18b-3125-43d2-85d1-e8da221e4e3c",
   "metadata": {
    "tags": []
   },
   "outputs": [],
   "source": [
    "from sklearn.compose import ColumnTransformer\n",
    "from sklearn.pipeline import Pipeline, make_pipeline\n",
    "from sklearn.preprocessing import StandardScaler, OneHotEncoder, LabelEncoder\n",
    "from sklearn.linear_model import LogisticRegression, LogisticRegressionCV\n",
    "from sklearn.ensemble import RandomForestClassifier\n",
    "from sklearn.metrics import confusion_matrix, ConfusionMatrixDisplay\n",
    "from sklearn.model_selection import train_test_split\n",
    "from sklearn.dummy import DummyClassifier\n",
    "from sklearn.tree import DecisionTreeClassifier"
   ]
  },
  {
   "cell_type": "code",
   "execution_count": null,
   "id": "acf12130",
   "metadata": {
    "tags": []
   },
   "outputs": [],
   "source": [
    "%matplotlib inline"
   ]
  },
  {
   "cell_type": "markdown",
   "id": "08f2a3ad-dca5-4647-9f07-c57c326a9db2",
   "metadata": {
    "tags": []
   },
   "source": [
    "Reading in the classification housing dataset."
   ]
  },
  {
   "cell_type": "code",
   "execution_count": null,
   "id": "2a629735",
   "metadata": {
    "Collapsed": "false",
    "tags": []
   },
   "outputs": [],
   "source": [
    "housing_df = pd.read_csv(\"./data/kc_house_data_classification.csv\")"
   ]
  },
  {
   "cell_type": "code",
   "execution_count": null,
   "id": "ec907a8c",
   "metadata": {
    "tags": []
   },
   "outputs": [],
   "source": [
    "housing_df.info()"
   ]
  },
  {
   "cell_type": "code",
   "execution_count": null,
   "id": "bf9144e0",
   "metadata": {
    "tags": []
   },
   "outputs": [],
   "source": [
    "housing_df.head(10)"
   ]
  },
  {
   "cell_type": "markdown",
   "id": "9887d458-1e0c-4382-ad42-ddcec6e3f463",
   "metadata": {},
   "source": [
    "## Task 3 - EDA"
   ]
  },
  {
   "cell_type": "markdown",
   "id": "015f1893-0d52-46c8-973f-acc7f748a9cd",
   "metadata": {},
   "source": [
    "### Using Sweetviz"
   ]
  },
  {
   "cell_type": "code",
   "execution_count": null,
   "id": "70ee5e97-c1de-45db-a410-ff20f3accbbb",
   "metadata": {
    "tags": []
   },
   "outputs": [],
   "source": [
    "import sweetviz"
   ]
  },
  {
   "cell_type": "code",
   "execution_count": null,
   "id": "114842b3-71f3-4526-9f51-4cd6d2fba23a",
   "metadata": {},
   "outputs": [],
   "source": [
    "# report = sweetviz.analyze(housing_df)"
   ]
  },
  {
   "cell_type": "code",
   "execution_count": null,
   "id": "123ec030-43fc-46e0-8db6-87708893debe",
   "metadata": {
    "tags": []
   },
   "outputs": [],
   "source": [
    "# report.show_html(\"output/sweetviz_hw1report.html\")"
   ]
  },
  {
   "cell_type": "markdown",
   "id": "bf195032-ed82-4c1f-83ee-5e3ead7a90d1",
   "metadata": {},
   "source": [
    "### Using Panda Profiling"
   ]
  },
  {
   "cell_type": "code",
   "execution_count": null,
   "id": "413bc973-64e2-4892-99a6-a9b74580ca92",
   "metadata": {
    "tags": []
   },
   "outputs": [],
   "source": [
    "# profile = ProfileReport(housing_df, title=\"Pandas Profiling Report\")"
   ]
  },
  {
   "cell_type": "code",
   "execution_count": null,
   "id": "e9c9e118-4081-43aa-b446-7d879ebb4cc6",
   "metadata": {
    "tags": []
   },
   "outputs": [],
   "source": [
    "# profile.to_file(\"output/pandas_profiling_report.html\")"
   ]
  },
  {
   "cell_type": "code",
   "execution_count": null,
   "id": "5ceaab2d-38f9-482b-9f9e-7cc096c12b1e",
   "metadata": {
    "tags": []
   },
   "outputs": [],
   "source": [
    "# profile"
   ]
  },
  {
   "cell_type": "markdown",
   "id": "4471b02f-b485-4ef4-bbab-781caf1127b2",
   "metadata": {},
   "source": [
    "It seems that there is a small difference in the outputs that were generated. The Sweetviz report suggested that the variable `floors` was a categorical variable but the Pandas Profiling one dictated it as a numeric variable. For the purpose of this hw I will not dedicate `floors` as a categorical variable in my models."
   ]
  },
  {
   "cell_type": "markdown",
   "id": "4264ee21-8b8a-4f84-8150-4a8b4b61d3a0",
   "metadata": {},
   "source": [
    "## Task 4 - Categorical vs. Numeric"
   ]
  },
  {
   "cell_type": "markdown",
   "id": "65fda23c-9025-4760-977b-73ab957d5fe5",
   "metadata": {},
   "source": [
    "Here are the steps I took in order to do some data preprocessing continue the development of the models later in the hw file."
   ]
  },
  {
   "cell_type": "markdown",
   "id": "0b711a22-c537-4e4c-8f36-8dba2cc0ba94",
   "metadata": {},
   "source": [
    "First lets see what the datatypes for are variables are."
   ]
  },
  {
   "cell_type": "code",
   "execution_count": null,
   "id": "2161c0a1-4984-4000-9b83-7e293d358569",
   "metadata": {
    "tags": []
   },
   "outputs": [],
   "source": [
    "housing_df.dtypes"
   ]
  },
  {
   "cell_type": "markdown",
   "id": "4b5f98d1-2f9e-418c-8ff7-7296695bf05c",
   "metadata": {},
   "source": [
    "Since all of the variables will output as numeric, we will have to make sure what variables are numeric/categorical in out lists. "
   ]
  },
  {
   "cell_type": "markdown",
   "id": "e9319dcd-428c-4f69-92bb-d5c09d4f8331",
   "metadata": {},
   "source": [
    "Next, I will convert the following variables `view`, `waterfront`, and `condition` into categorical data using the following code."
   ]
  },
  {
   "cell_type": "code",
   "execution_count": null,
   "id": "95edd420-7d93-4628-aa95-bf4aa34853c5",
   "metadata": {
    "tags": []
   },
   "outputs": [],
   "source": [
    "housing_df[\"view\"] = housing_df[\"view\"].astype(\"category\")\n",
    "housing_df[\"waterfront\"] = housing_df[\"waterfront\"].astype(\"category\")\n",
    "housing_df[\"condition\"] = housing_df[\"condition\"].astype(\"category\")"
   ]
  },
  {
   "cell_type": "markdown",
   "id": "8d65528a-132e-445c-bfdf-9bac71cb63d6",
   "metadata": {},
   "source": [
    "Here is the resulting output for the numeric and categorical variables:"
   ]
  },
  {
   "cell_type": "code",
   "execution_count": null,
   "id": "4758f22b-4350-4dd0-9cbe-84c51de0f8c9",
   "metadata": {
    "tags": []
   },
   "outputs": [],
   "source": [
    "categorical_cols = housing_df.select_dtypes(include=['category']).columns.tolist()\n",
    "numeric_cols = housing_df.select_dtypes(include=['number']).columns.tolist()"
   ]
  },
  {
   "cell_type": "code",
   "execution_count": null,
   "id": "700f77a1-ce5d-4864-b83c-3a3b5fa8c91b",
   "metadata": {
    "tags": []
   },
   "outputs": [],
   "source": [
    "categorical_cols"
   ]
  },
  {
   "cell_type": "code",
   "execution_count": null,
   "id": "0bb20693-ee27-47ba-840d-2f227ba5b394",
   "metadata": {
    "tags": []
   },
   "outputs": [],
   "source": [
    "numeric_cols"
   ]
  },
  {
   "cell_type": "code",
   "execution_count": null,
   "id": "b0420b02-b423-41db-bd01-e98002402832",
   "metadata": {
    "tags": []
   },
   "outputs": [],
   "source": [
    "numeric_cols = numeric_cols[:-1]\n",
    "numeric_cols"
   ]
  },
  {
   "cell_type": "code",
   "execution_count": null,
   "id": "fbadfa02-2926-4823-8044-82d8b1f944de",
   "metadata": {
    "tags": []
   },
   "outputs": [],
   "source": [
    "X = housing_df.iloc[:, 0:18]\n",
    "y = housing_df.iloc[:, 18]"
   ]
  },
  {
   "cell_type": "code",
   "execution_count": null,
   "id": "3b13ca02-6b55-4220-9519-85f9c3b60cdd",
   "metadata": {
    "tags": []
   },
   "outputs": [],
   "source": [
    "housing_df.info()"
   ]
  },
  {
   "cell_type": "code",
   "execution_count": null,
   "id": "227cc09c-21ce-4163-8b73-213ee39b0bf0",
   "metadata": {
    "tags": []
   },
   "outputs": [],
   "source": [
    "X.info()"
   ]
  },
  {
   "cell_type": "code",
   "execution_count": null,
   "id": "39f583b7-ad7a-494f-8122-608f97913038",
   "metadata": {
    "tags": []
   },
   "outputs": [],
   "source": [
    "y.info()"
   ]
  },
  {
   "cell_type": "markdown",
   "id": "482201cd-0018-4f17-a5cc-7141ad20958c",
   "metadata": {},
   "source": [
    "## Task 4 - Logistic Regression models"
   ]
  },
  {
   "cell_type": "markdown",
   "id": "dbce4863-d1c2-4b52-84f0-c1273ed64caf",
   "metadata": {},
   "source": [
    "### Pipeline for preprocessing"
   ]
  },
  {
   "cell_type": "code",
   "execution_count": null,
   "id": "b55bd805-bf7b-4984-ac57-fda9a4c76a64",
   "metadata": {
    "tags": []
   },
   "outputs": [],
   "source": [
    "# Create a StandardScalar object to use on our numeric variables\n",
    "numeric_transformer = StandardScaler()\n",
    "categorical_transformer = OneHotEncoder(handle_unknown='ignore')\n",
    "\n",
    "preprocessor = ColumnTransformer(\n",
    "    transformers=[\n",
    "        ('num', numeric_transformer, numeric_cols),\n",
    "        ('cat', categorical_transformer, categorical_cols)])"
   ]
  },
  {
   "cell_type": "code",
   "execution_count": null,
   "id": "a6395bd6-914c-4973-ac80-b920fda1be29",
   "metadata": {
    "tags": []
   },
   "outputs": [],
   "source": [
    "# Classifier model\n",
    "clf_model = LogisticRegression(penalty='l2', C=1, solver='saga', max_iter=500)\n",
    "\n",
    "# Append classifier to preprocessing pipeline.\n",
    "# Now we have a full prediction pipeline.\n",
    "clf = Pipeline(steps=[('preprocessor', preprocessor),\n",
    "                      ('classifier', clf_model)])"
   ]
  },
  {
   "cell_type": "code",
   "execution_count": null,
   "id": "0a96f950-3acc-42ae-82fb-ed06352c0d13",
   "metadata": {
    "tags": []
   },
   "outputs": [],
   "source": [
    "X_train, X_test, y_train, y_test = train_test_split(X, y, test_size=0.2, random_state=73)\n",
    "\n",
    "# Fit model on new training data - notice that clf is actually the Pipeline\n",
    "clf.fit(X_train, y_train)\n",
    "\n",
    "print(f\"Training score: {clf.score(X_train, y_train):.3f}\")\n",
    "print(f\"Test score: {clf.score(X_test, y_test):.3f}\")"
   ]
  },
  {
   "cell_type": "code",
   "execution_count": null,
   "id": "2d9e5ce8-88fd-435f-8448-a6627746e71b",
   "metadata": {
    "tags": []
   },
   "outputs": [],
   "source": [
    "y_train.info()"
   ]
  },
  {
   "cell_type": "markdown",
   "id": "2b0f59cb-0545-4cf7-a0db-444a036077c3",
   "metadata": {
    "tags": []
   },
   "source": [
    "#### Model 0"
   ]
  },
  {
   "cell_type": "code",
   "execution_count": null,
   "id": "21d5551a-e409-4777-b2d3-7f4c7c216450",
   "metadata": {
    "tags": []
   },
   "outputs": [],
   "source": [
    "dummy_clf = DummyClassifier(strategy=\"most_frequent\")"
   ]
  },
  {
   "cell_type": "code",
   "execution_count": null,
   "id": "e8c709e0-4a6f-49fe-bd3f-6bf0ee45af40",
   "metadata": {
    "tags": []
   },
   "outputs": [],
   "source": [
    "dummy_clf.fit(X, y)"
   ]
  },
  {
   "cell_type": "code",
   "execution_count": null,
   "id": "7853cd21-b921-48ae-a68e-054751b8346e",
   "metadata": {
    "tags": []
   },
   "outputs": [],
   "source": [
    "dummy_clf.predict(X)"
   ]
  },
  {
   "cell_type": "code",
   "execution_count": null,
   "id": "42445643-f837-428e-8e15-d30e7b3bc120",
   "metadata": {
    "tags": []
   },
   "outputs": [],
   "source": [
    "dummy_clf.score(X, y)"
   ]
  },
  {
   "cell_type": "markdown",
   "id": "a5ec47d5-3cdc-4803-a056-367d4c0c9ea5",
   "metadata": {
    "tags": []
   },
   "source": [
    "#### Model 1"
   ]
  },
  {
   "cell_type": "code",
   "execution_count": null,
   "id": "3872ce4d-ab0c-413e-bbf1-12dd74721d34",
   "metadata": {
    "tags": []
   },
   "outputs": [],
   "source": [
    "# Ridge Regression\n",
    "clf_model_ridge = LogisticRegression(penalty='l2', C=1.0, solver='saga', max_iter=2000)"
   ]
  },
  {
   "cell_type": "code",
   "execution_count": null,
   "id": "f41b5922-8dd6-4361-9d88-8e3688e6e58d",
   "metadata": {
    "tags": []
   },
   "outputs": [],
   "source": [
    "# Appending classifier to preprocessing pipeline.\n",
    "clf_model1 = Pipeline(steps=[('preprocessor', preprocessor),\n",
    "                      ('classifier', clf_model_ridge)])"
   ]
  },
  {
   "cell_type": "code",
   "execution_count": null,
   "id": "df544016-ec4b-4ddf-b3bc-5190e3c24225",
   "metadata": {
    "tags": []
   },
   "outputs": [],
   "source": [
    "# Fitting model on training data \n",
    "clf_model1.fit(X_train, y_train)\n",
    "\n",
    "# Output statement\n",
    "print(f\"Training score: {clf_model1.score(X_train, y_train):.3f}\")\n",
    "print(f\"Test score: {clf_model1.score(X_test, y_test):.3f}\")"
   ]
  },
  {
   "cell_type": "markdown",
   "id": "f56a5059-7d8c-4511-9ddb-5b906ee8efff",
   "metadata": {},
   "source": [
    "##### Confusion Matrix - M1, Train"
   ]
  },
  {
   "cell_type": "code",
   "execution_count": null,
   "id": "8ddc8a64-7710-4d91-a598-22ad93baff7b",
   "metadata": {
    "tags": []
   },
   "outputs": [],
   "source": [
    "titles_options = [(\"Confusion matrix for train, without normalization\", None),\n",
    "                  (\"Normalized confusion matrix for train\", 'true')]\n",
    "\n",
    "class_names = clf_model1['classifier'].classes_\n",
    "\n",
    "for title, normalize in titles_options:\n",
    "    disp = ConfusionMatrixDisplay.from_estimator(clf_model1, X_train, y_train,\n",
    "                                 display_labels=class_names,\n",
    "                                 cmap=plt.cm.Blues,\n",
    "                                 normalize=normalize)\n",
    "    disp.ax_.set_title(title)\n",
    "\n",
    "    print(title)\n",
    "    print(disp.confusion_matrix)\n",
    "\n",
    "plt.show()"
   ]
  },
  {
   "cell_type": "markdown",
   "id": "c9c17afe-1f84-44dd-a63a-86e548702372",
   "metadata": {
    "tags": []
   },
   "source": [
    "##### Confusion Matrix - M1, Test"
   ]
  },
  {
   "cell_type": "code",
   "execution_count": null,
   "id": "797e066a-5199-4a8d-8f0f-c5e85f7107f7",
   "metadata": {
    "tags": []
   },
   "outputs": [],
   "source": [
    "titles_options = [(\"Confusion matrix for train, without normalization\", None),\n",
    "                  (\"Normalized confusion matrix for train\", 'true')]\n",
    "\n",
    "class_names = clf_model1['classifier'].classes_\n",
    "\n",
    "for title, normalize in titles_options:\n",
    "    disp = ConfusionMatrixDisplay.from_estimator(clf_model1, X_test, y_test,\n",
    "                                 display_labels=class_names,\n",
    "                                 cmap=plt.cm.Blues,\n",
    "                                 normalize=normalize)\n",
    "    disp.ax_.set_title(title)\n",
    "\n",
    "    print(title)\n",
    "    print(disp.confusion_matrix)\n",
    "\n",
    "plt.show()"
   ]
  },
  {
   "cell_type": "markdown",
   "id": "5ccd58a8-61c1-480b-b5ea-4a999e43164f",
   "metadata": {
    "tags": []
   },
   "source": [
    "##### Coefficient Plot"
   ]
  },
  {
   "cell_type": "code",
   "execution_count": null,
   "id": "ec39eab8-dcf5-4b1c-be0d-fcbc04c9a7f9",
   "metadata": {
    "tags": []
   },
   "outputs": [],
   "source": [
    "clf.named_steps['classifier'].coef_.shape"
   ]
  },
  {
   "cell_type": "code",
   "execution_count": null,
   "id": "17f772af-ab30-4793-8997-6efa607c2098",
   "metadata": {
    "tags": []
   },
   "outputs": [],
   "source": [
    "clf_model1.steps[1]"
   ]
  },
  {
   "cell_type": "code",
   "execution_count": null,
   "id": "e0a83929-cf2f-45f1-a782-1d3ed1bd32f5",
   "metadata": {
    "tags": []
   },
   "outputs": [],
   "source": [
    "def coef_plot(model, title=None):\n",
    "    fig, ax = plt.subplots(2, sharex=True)\n",
    "       \n",
    "    if title:\n",
    "        ax[0].set_title(title)\n",
    "\n",
    "    for i in range(1):\n",
    "        ax[i].plot(model.steps[1][1].coef_[i])"
   ]
  },
  {
   "cell_type": "code",
   "execution_count": null,
   "id": "29c63633-d1ad-48c2-bebe-ee3cd39559ed",
   "metadata": {
    "tags": []
   },
   "outputs": [],
   "source": [
    "coef_plot(clf_model1, 'Model 1 - L2, C=1.0')"
   ]
  },
  {
   "cell_type": "markdown",
   "id": "ac690fe1-e69c-41df-8479-0f6b2426c57d",
   "metadata": {
    "tags": []
   },
   "source": [
    "#### Model 2"
   ]
  },
  {
   "cell_type": "code",
   "execution_count": null,
   "id": "1b32dc7c-8606-4b22-8df3-a0174eeab9a3",
   "metadata": {
    "tags": []
   },
   "outputs": [],
   "source": [
    "# Lasso Regression, C = 1.0\n",
    "clf_model2_lasso = LogisticRegression(penalty='l1', C=1.0, solver='saga', max_iter=2000)\n",
    "\n",
    "# Appending classifier to preprocessing pipeline.\n",
    "clf_model2 = Pipeline(steps=[('preprocessor', preprocessor),\n",
    "                      ('classifier', clf_model2_lasso)])\n",
    "\n",
    "# Fitting model on training data \n",
    "clf_model2.fit(X_train, y_train)\n",
    "\n",
    "# Output statement\n",
    "print(f\"Training score: {clf_model2.score(X_train, y_train):.3f}\")\n",
    "print(f\"Test score: {clf_model2.score(X_test, y_test):.3f}\")"
   ]
  },
  {
   "cell_type": "markdown",
   "id": "ad9a8dc4-4474-4e32-8a21-b2cdea254d93",
   "metadata": {
    "tags": []
   },
   "source": [
    "##### CM - M2, Train"
   ]
  },
  {
   "cell_type": "code",
   "execution_count": null,
   "id": "1e40bc2c-f449-47fe-bc30-c046d157f736",
   "metadata": {
    "tags": []
   },
   "outputs": [],
   "source": [
    "titles_options = [(\"Confusion matrix for train, without normalization\", None),\n",
    "                  (\"Normalized confusion matrix for train\", 'true')]\n",
    "\n",
    "class_names = clf_model2['classifier'].classes_\n",
    "\n",
    "for title, normalize in titles_options:\n",
    "    disp = ConfusionMatrixDisplay.from_estimator(clf_model2, X_train, y_train,\n",
    "                                 display_labels=class_names,\n",
    "                                 cmap=plt.cm.Blues,\n",
    "                                 normalize=normalize)\n",
    "    disp.ax_.set_title(title)\n",
    "\n",
    "    print(title)\n",
    "    print(disp.confusion_matrix)\n",
    "\n",
    "plt.show()"
   ]
  },
  {
   "cell_type": "markdown",
   "id": "0864efa9-10e1-486b-b345-e0dd3de93102",
   "metadata": {
    "tags": []
   },
   "source": [
    "##### CM - M2, Test"
   ]
  },
  {
   "cell_type": "code",
   "execution_count": null,
   "id": "5ba8e877-af07-4562-9810-ed753e2f665f",
   "metadata": {
    "tags": []
   },
   "outputs": [],
   "source": [
    "titles_options = [(\"Confusion matrix for train, without normalization\", None),\n",
    "                  (\"Normalized confusion matrix for train\", 'true')]\n",
    "\n",
    "class_names = clf_model2['classifier'].classes_\n",
    "\n",
    "for title, normalize in titles_options:\n",
    "    disp = ConfusionMatrixDisplay.from_estimator(clf_model2, X_test, y_test,\n",
    "                                 display_labels=class_names,\n",
    "                                 cmap=plt.cm.Blues,\n",
    "                                 normalize=normalize)\n",
    "    disp.ax_.set_title(title)\n",
    "\n",
    "    print(title)\n",
    "    print(disp.confusion_matrix)\n",
    "\n",
    "plt.show()"
   ]
  },
  {
   "cell_type": "markdown",
   "id": "0ba70916-6f3f-4495-a061-fc79cd168cc0",
   "metadata": {
    "tags": []
   },
   "source": [
    "##### Coefficient Plot"
   ]
  },
  {
   "cell_type": "code",
   "execution_count": null,
   "id": "13403773-fd51-42c7-a95f-beb9cc855a57",
   "metadata": {
    "tags": []
   },
   "outputs": [],
   "source": [
    "coef_plot(clf_model2, 'Model 2 - L1, C=1.0')"
   ]
  },
  {
   "cell_type": "markdown",
   "id": "04e5773a-389b-4871-8f3e-70bc148e920d",
   "metadata": {},
   "source": [
    "Explaination and comparison of Models 1 to 2: "
   ]
  },
  {
   "cell_type": "markdown",
   "id": "c2812578-e04f-4757-83b6-3f6964219b60",
   "metadata": {
    "tags": []
   },
   "source": [
    "#### Model 3"
   ]
  },
  {
   "cell_type": "code",
   "execution_count": null,
   "id": "0f3acb02-f632-45a4-8344-9c93638eb760",
   "metadata": {
    "tags": []
   },
   "outputs": [],
   "source": [
    "# Lasso Regression, C = 0.01\n",
    "clf_model3_lasso = LogisticRegression(penalty='l1', C=0.01, solver='saga', max_iter=2000)\n",
    "\n",
    "# Appending classifier to preprocessing pipeline.\n",
    "clf_model3 = Pipeline(steps=[('preprocessor', preprocessor),\n",
    "                      ('classifier', clf_model3_lasso)])\n",
    "\n",
    "# Fitting model on training data \n",
    "clf_model3.fit(X_train, y_train)\n",
    "\n",
    "# Output statement\n",
    "print(f\"Training score: {clf_model3.score(X_train, y_train):.3f}\")\n",
    "print(f\"Test score: {clf_model3.score(X_test, y_test):.3f}\")"
   ]
  },
  {
   "cell_type": "markdown",
   "id": "c6ceb223-b837-40fa-a73b-80611b8c0fc3",
   "metadata": {
    "tags": []
   },
   "source": [
    "##### CM - M3, Train"
   ]
  },
  {
   "cell_type": "code",
   "execution_count": null,
   "id": "edd8fc88-1133-4d53-a348-2f8a333f5744",
   "metadata": {
    "tags": []
   },
   "outputs": [],
   "source": [
    "titles_options = [(\"Confusion matrix for train, without normalization\", None),\n",
    "                  (\"Normalized confusion matrix for train\", 'true')]\n",
    "\n",
    "class_names = clf_model3['classifier'].classes_\n",
    "\n",
    "for title, normalize in titles_options:\n",
    "    disp = ConfusionMatrixDisplay.from_estimator(clf_model3, X_train, y_train,\n",
    "                                 display_labels=class_names,\n",
    "                                 cmap=plt.cm.Blues,\n",
    "                                 normalize=normalize)\n",
    "    disp.ax_.set_title(title)\n",
    "\n",
    "    print(title)\n",
    "    print(disp.confusion_matrix)\n",
    "\n",
    "plt.show()"
   ]
  },
  {
   "cell_type": "markdown",
   "id": "93329458-35aa-4780-bb57-cc2b1c4e81e0",
   "metadata": {
    "tags": []
   },
   "source": [
    "##### CM - M3, Test"
   ]
  },
  {
   "cell_type": "code",
   "execution_count": null,
   "id": "94240998-1ea4-4539-8009-b83e2058324a",
   "metadata": {
    "tags": []
   },
   "outputs": [],
   "source": [
    "titles_options = [(\"Confusion matrix for train, without normalization\", None),\n",
    "                  (\"Normalized confusion matrix for train\", 'true')]\n",
    "\n",
    "class_names = clf_model3['classifier'].classes_\n",
    "\n",
    "for title, normalize in titles_options:\n",
    "    disp = ConfusionMatrixDisplay.from_estimator(clf_model3, X_test, y_test,\n",
    "                                 display_labels=class_names,\n",
    "                                 cmap=plt.cm.Blues,\n",
    "                                 normalize=normalize)\n",
    "    disp.ax_.set_title(title)\n",
    "\n",
    "    print(title)\n",
    "    print(disp.confusion_matrix)\n",
    "\n",
    "plt.show()"
   ]
  },
  {
   "cell_type": "markdown",
   "id": "1ff84533-66f9-4edb-b899-3de539710ed1",
   "metadata": {
    "tags": []
   },
   "source": [
    "##### Coefficient Plot"
   ]
  },
  {
   "cell_type": "code",
   "execution_count": null,
   "id": "4133d489-ffec-4531-bca1-f19fb7234b20",
   "metadata": {
    "tags": []
   },
   "outputs": [],
   "source": [
    "coef_plot(clf_model3, 'Model 3 - L1, C=0.01')"
   ]
  },
  {
   "cell_type": "markdown",
   "id": "64124dcd-b914-42c0-aafe-4f4f3ff94be4",
   "metadata": {},
   "source": [
    "ANSWER AND EXPLAINATION: Does this enforce more or less regularization? Create the same outputs and compare the performance to the first two models. Discuss why the plot looks so different than the previous plots."
   ]
  },
  {
   "cell_type": "markdown",
   "id": "ba39ad92-5324-4d86-a691-656793c35111",
   "metadata": {
    "tags": []
   },
   "source": [
    "#### Model 4 THIS WILL TAKE A LONG TIME TO RUN!!!!!!!"
   ]
  },
  {
   "cell_type": "code",
   "execution_count": null,
   "id": "71039fad-f240-4155-8cf1-c068b8a4da9a",
   "metadata": {
    "tags": []
   },
   "outputs": [],
   "source": [
    "l1_ratios = list(np.linspace(0, 1, 5))\n",
    "\n",
    "for penalty in ['l1', 'l2', 'elasticnet']:\n",
    "    \n",
    "    # LR, Optimal C value\n",
    "    clf_model4_cv = LogisticRegressionCV(penalty=penalty, Cs=[0.1, 1, 10], l1_ratios=l1_ratios, solver='saga', max_iter=2000)\n",
    "\n",
    "    # Appending classifier to preprocessing pipeline.\n",
    "    clf_model4 = Pipeline(steps=[('preprocessor', preprocessor),\n",
    "                          ('classifier', clf_model4_cv)])\n",
    "\n",
    "    # Fitting model on training data \n",
    "    clf_model4.fit(X_train, y_train)\n",
    "    print(f\"Best model score for {penalty} : {clf_model4['classifier'].scores_}\")\n",
    "\n",
    "# Output statement\n",
    "print(f\"Training score: {clf_model4.score(X_train, y_train):.3f}\")\n",
    "print(f\"Test score: {clf_model4.score(X_test, y_test):.3f}\")"
   ]
  },
  {
   "cell_type": "markdown",
   "id": "9e3e076b-666e-4159-bf5d-da79fb548c2e",
   "metadata": {
    "tags": [],
    "toc-hr-collapsed": true
   },
   "source": [
    "##### CM - M4, Train"
   ]
  },
  {
   "cell_type": "code",
   "execution_count": null,
   "id": "281144a7-21d8-47d6-87fc-bb12f2759092",
   "metadata": {
    "tags": []
   },
   "outputs": [],
   "source": [
    "titles_options = [(\"Confusion matrix for train, without normalization\", None),\n",
    "                  (\"Normalized confusion matrix for train\", 'true')]\n",
    "\n",
    "class_names = clf_model4['classifier'].classes_\n",
    "\n",
    "for title, normalize in titles_options:\n",
    "    disp = ConfusionMatrixDisplay.from_estimator(clf_model4, X_train, y_train,\n",
    "                                 display_labels=class_names,\n",
    "                                 cmap=plt.cm.Blues,\n",
    "                                 normalize=normalize)\n",
    "    disp.ax_.set_title(title)\n",
    "\n",
    "    print(title)\n",
    "    print(disp.confusion_matrix)\n",
    "\n",
    "plt.show()"
   ]
  },
  {
   "cell_type": "markdown",
   "id": "4dd1c7e2-bd58-464d-be4c-cb39ad04f79b",
   "metadata": {
    "tags": []
   },
   "source": [
    "##### CM - M4, Test"
   ]
  },
  {
   "cell_type": "code",
   "execution_count": null,
   "id": "e9136b96-41b3-4a67-ac5f-ed4bd780fa6d",
   "metadata": {
    "tags": []
   },
   "outputs": [],
   "source": [
    "titles_options = [(\"Confusion matrix for train, without normalization\", None),\n",
    "                  (\"Normalized confusion matrix for train\", 'true')]\n",
    "\n",
    "class_names = clf_model4['classifier'].classes_\n",
    "\n",
    "for title, normalize in titles_options:\n",
    "    disp = ConfusionMatrixDisplay.from_estimator(clf_model4, X_test, y_test,\n",
    "                                 display_labels=class_names,\n",
    "                                 cmap=plt.cm.Blues,\n",
    "                                 normalize=normalize)\n",
    "    disp.ax_.set_title(title)\n",
    "\n",
    "    print(title)\n",
    "    print(disp.confusion_matrix)\n",
    "\n",
    "plt.show()"
   ]
  },
  {
   "cell_type": "markdown",
   "id": "ec96766e-e8b1-40a2-833d-6a3eb9f913af",
   "metadata": {},
   "source": [
    "EXPLAINATION AND ANSWER: Does regularization help for this problem? Need Confusion Matrixs for problem"
   ]
  },
  {
   "cell_type": "markdown",
   "id": "48c7a591-db35-4368-a8e5-09ceea06103c",
   "metadata": {},
   "source": [
    "### Task 5 - Decision Tree"
   ]
  },
  {
   "cell_type": "code",
   "execution_count": null,
   "id": "9685ccba-387c-4d59-af9b-81302ba20706",
   "metadata": {
    "tags": []
   },
   "outputs": [],
   "source": [
    "# Create a DecisionTreeClassifier model. \n",
    "tree_task5 = DecisionTreeClassifier(min_samples_split=20)\n",
    "\n",
    "# Fit the model using our features and target variables\n",
    "tree_task5.fit(X_train, y_train)\n",
    "\n",
    "\n",
    "# Get % accuracy on the training data\n",
    "# Output statement\n",
    "print(f\"Training score: {tree_task5.score(X_train, y_train):.3f}\")\n",
    "print(f\"Test score: {tree_task5.score(X_test, y_test):.3f}\")"
   ]
  },
  {
   "cell_type": "code",
   "execution_count": null,
   "id": "8067a663-5473-45db-bb95-4b155b19e813",
   "metadata": {
    "tags": []
   },
   "outputs": [],
   "source": [
    "# Making prediction\n",
    "tree_testclasses = tree_task5.predict(X_test)\n",
    "print(tree_testclasses[:10])\n",
    "\n",
    "# Class probabilities - just the first three rows and first 15 cols\n",
    "tree_testprobs = tree_task5.predict_proba(X_test)\n",
    "tree_testprobs[:3, :2]"
   ]
  },
  {
   "cell_type": "markdown",
   "id": "39104774-087e-4fe2-831f-71fb56be64e8",
   "metadata": {
    "tags": [],
    "toc-hr-collapsed": true
   },
   "source": [
    "##### CM - DecisionTree, Train"
   ]
  },
  {
   "cell_type": "code",
   "execution_count": null,
   "id": "51bbc22c-bdba-4fae-994b-ab2943fa2d96",
   "metadata": {
    "tags": []
   },
   "outputs": [],
   "source": [
    "plt.matshow(tree_testprobs[:10, :10], cmap='Blues')\n",
    "plt.show()"
   ]
  },
  {
   "cell_type": "markdown",
   "id": "0c520547-6cc1-41e3-8cee-671eb5c02171",
   "metadata": {
    "tags": []
   },
   "source": [
    "##### CM - DecisionTree, Test"
   ]
  },
  {
   "cell_type": "code",
   "execution_count": null,
   "id": "75f5b736-ea78-419a-8581-0828cdd114cb",
   "metadata": {
    "tags": []
   },
   "outputs": [],
   "source": [
    "titles_options = [(\"Confusion matrix for train, without normalization\", None),\n",
    "                  (\"Normalized confusion matrix for train\", 'true')]\n",
    "\n",
    "class_names = tree_task5['classifier'].classes_\n",
    "\n",
    "for title, normalize in titles_options:\n",
    "    disp = ConfusionMatrixDisplay.from_estimator(tree_task5, X_test, y_test,\n",
    "                                 display_labels=class_names,\n",
    "                                 cmap=plt.cm.Blues,\n",
    "                                 normalize=normalize)\n",
    "    disp.ax_.set_title(title)\n",
    "\n",
    "    print(title)\n",
    "    print(disp.confusion_matrix)\n",
    "\n",
    "plt.show()"
   ]
  },
  {
   "cell_type": "code",
   "execution_count": null,
   "id": "653461d5-ff4a-4715-a475-1b69244e6917",
   "metadata": {
    "tags": []
   },
   "outputs": [],
   "source": [
    "# Fitting Decision Tree\n",
    "clf_RF_model_final = RandomForestClassifier(oob_score=True, random_state=0)\n",
    "\n",
    "# Append classifier to preprocessing pipeline.\n",
    "clf_RF_final = Pipeline(steps=[('preprocessor', preprocessor),\n",
    "                      ('classifier', clf_RF_model_final)])\n",
    "\n",
    "# Fit model on training data \n",
    "clf_RF_final.fit(X_train, y_train)\n",
    "print(\"Training score: %.3f\" % clf_RF_final.score(X_train, y_train))\n",
    "\n",
    "# Make predictions on the test data\n",
    "clf_RF_final_predictions = clf_RF_final.predict(X_test)\n",
    "print(clf_RF_final_predictions[:10])  # Print out a few predictions just to see what they look like"
   ]
  },
  {
   "cell_type": "markdown",
   "id": "bf0f43af-7ba9-46d2-b9a6-d786c3421bd1",
   "metadata": {
    "tags": []
   },
   "source": [
    "ANSWER AND EXPLAINATION: Discuss the performance relative to your logistic regression models."
   ]
  },
  {
   "cell_type": "code",
   "execution_count": null,
   "id": "d7bdb91b-cba7-4d64-a785-da3eaaf0abb3",
   "metadata": {
    "tags": []
   },
   "outputs": [],
   "source": [
    "#if 'price_gt_1M' in y:\n",
    "  # print(\"Column 'Name' is present in the DataFrame\")\n",
    "#else:\n",
    " #  print(\"Column 'Name' is not present in the DataFrame\") "
   ]
  },
  {
   "cell_type": "markdown",
   "id": "43eb0528-67df-41b4-9ade-4717b773b2f7",
   "metadata": {},
   "source": [
    "### Task 6 - Error Exploration"
   ]
  },
  {
   "cell_type": "code",
   "execution_count": null,
   "id": "4719f3fe-b6f9-4595-9219-bc04850c90ba",
   "metadata": {
    "tags": []
   },
   "outputs": [],
   "source": [
    "# Classifier model\n",
    "clf_task6_lasso = LogisticRegression(penalty='l1', C=1.0, solver='saga', max_iter=2000)\n",
    "\n",
    "# Append classifier to preprocessing pipeline.\n",
    "clf_task6 = Pipeline(steps=[('preprocessor', preprocessor),\n",
    "                      ('classifier', clf_task6_lasso)])\n",
    "\n",
    "# Fit model on training data \n",
    "clf_task6.fit(X_train, y_train)\n",
    "\n",
    "print(f\"Training score: {clf_task6.score(X_train, y_train):.3f}\")\n",
    "print(f\"Test score: {clf_task6.score(X_test, y_test):.3f}\")\n",
    "\n",
    "\n",
    "# Make predictions on the test data\n",
    "clf_task6_predictions = clf_task6.predict(X_test)\n",
    "print(clf_task6_predictions[:10])  # Print out a few predictions just to see what they look like"
   ]
  },
  {
   "cell_type": "code",
   "execution_count": null,
   "id": "d19cc54c-d917-4fad-935f-9a80a99e6687",
   "metadata": {},
   "outputs": [],
   "source": [
    "print(f\"M1 - Training score: {clf_model1.score(X_train, y_train):.3f}\")\n",
    "print(f\"M2 - Training score: {clf_model2.score(X_train, y_train):.3f}\")\n",
    "print(f\"M3 - Training score: {clf_model3.score(X_train, y_train):.3f}\")\n",
    "print(f\"M4 - Training score: {clf_model4.score(X_train, y_train):.3f}\")\n",
    "print(f\"T5 - Training score: {tree_task5.score(X_train, y_train):.3f}\")\n",
    "\n",
    "print(f\"M1 - Test score: {clf_model1.score(X_test, y_test):.3f}\")\n",
    "print(f\"M2 - Test score: {clf_model2.score(X_test, y_test):.3f}\")\n",
    "print(f\"M3 - Test score: {clf_model3.score(X_test, y_test):.3f}\")\n",
    "print(f\"M4 - Test score: {clf_model4.score(X_test, y_test):.3f}\")\n",
    "print(f\"T5 - Test score: {tree_task5.score(X_test, y_test):.3f}\")"
   ]
  },
  {
   "cell_type": "code",
   "execution_count": null,
   "id": "1bade9b1-c8ec-466e-9f1d-11b27256d116",
   "metadata": {},
   "outputs": [],
   "source": []
  }
 ],
 "metadata": {
  "kernelspec": {
   "display_name": "Python [conda env:aap]",
   "language": "python",
   "name": "conda-env-aap-py"
  },
  "language_info": {
   "codemirror_mode": {
    "name": "ipython",
    "version": 3
   },
   "file_extension": ".py",
   "mimetype": "text/x-python",
   "name": "python",
   "nbconvert_exporter": "python",
   "pygments_lexer": "ipython3",
   "version": "3.12.3"
  }
 },
 "nbformat": 4,
 "nbformat_minor": 5
}
